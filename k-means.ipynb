{
 "cells": [
  {
   "cell_type": "code",
   "execution_count": 1,
   "metadata": {},
   "outputs": [],
   "source": [
    "import pandas as pd\n",
    "import numpy as np\n",
    "from scipy.spatial.distance import euclidean as dist\n",
    "from sklearn import datasets\n",
    "from sklearn.metrics import confusion_matrix, accuracy_score\n",
    "from scipy.stats import mode\n",
    "import seaborn as sns\n",
    "from matplotlib import pyplot as plt"
   ]
  },
  {
   "cell_type": "code",
   "execution_count": 2,
   "metadata": {},
   "outputs": [],
   "source": [
    "# Demo data from kmeans example:\n",
    "# http://www.machinelearningtutorial.net/2017/02/14/k-means-clustering-example/\n",
    "\n",
    "demo_dict = {'X':[1,2,1,4,5],\n",
    "             'Y':[1,1,2,3,4]}\n",
    "labels = ['A','B','C','D','E']\n",
    "\n",
    "demo = pd.DataFrame(demo_dict, index = labels)\n",
    "\n",
    "X = demo[['X','Y']].to_numpy()\n",
    "Y = np.array(demo.index)"
   ]
  },
  {
   "cell_type": "code",
   "execution_count": 3,
   "metadata": {},
   "outputs": [],
   "source": [
    "def kmeans(num_clust, attrib_array):\n",
    "    \n",
    "    initial = []    \n",
    "    # randomly select n=num_clust unique data points from the input data as \n",
    "    # starting centroids.\n",
    "    while len(initial) < num_clust:\n",
    "        rand = np.random.randint(0,len(attrib_array),1)\n",
    "        if any((attrib_array[rand] == a).all() for a in initial) == False:\n",
    "            initial.append(attrib_array[rand])\n",
    "    \n",
    "    new_centroids = np.concatenate(initial, axis = 0).astype('float64') #as float64 to allow for decimal centroids\n",
    "    \n",
    "    centroids = np.zeros(new_centroids.shape)  # store for centroids of the previous iteration\n",
    "    \n",
    "    centroid_diff = np.linalg.norm(new_centroids - centroids, None) #euclid. distance, **swap for euclid dist function.\n",
    "    \n",
    "    clusters = np.zeros(len(attrib_array)).astype('float64')\n",
    "    \n",
    "    # centroid storing functionality referenced from, some syntax used for clarity\n",
    "    # https://mubaris.com/2017-10-01/kmeans-clustering-in-python\n",
    "    while centroid_diff != 0:\n",
    "        for i in range(len(attrib_array)):\n",
    "            distance =  np.linalg.norm(attrib_array[i] - new_centroids,axis = 1)\n",
    "            cluster = np.argmin(distance)\n",
    "            clusters[i] = cluster\n",
    "            \n",
    "        centroids = new_centroids\n",
    "        \n",
    "        for i in range(num_clust):\n",
    "            new_cent_points = [attrib_array[j] for j in range(len(attrib_array)) if clusters[j] == i ]\n",
    "            new_centroids[i] = np.mean(new_cent_points, axis = 0)\n",
    "            \n",
    "        centroid_diff = np.linalg.norm(new_centroids - centroids, None)\n",
    "\n",
    "    clustersdf = pd.DataFrame(clusters) # optional\n",
    "    \n",
    "    return clustersdf, new_centroids, clusters\n",
    "  "
   ]
  },
  {
   "cell_type": "code",
   "execution_count": 4,
   "metadata": {},
   "outputs": [
    {
     "name": "stdout",
     "output_type": "stream",
     "text": [
      "1.0    3\n",
      "0.0    2\n",
      "Name: 0, dtype: int64\n"
     ]
    }
   ],
   "source": [
    "# testing against the demo data\n",
    "\n",
    "cluster_results, centroids, clusters = kmeans(2,X)\n",
    "\n",
    "print(cluster_results[0].value_counts())"
   ]
  },
  {
   "cell_type": "code",
   "execution_count": 23,
   "metadata": {},
   "outputs": [
    {
     "name": "stdout",
     "output_type": "stream",
     "text": [
      "kmeans model accuracy: 0.9333333333333333\n"
     ]
    }
   ],
   "source": [
    "\"\"\"\n",
    "\n",
    "testing the algorithm on the iris dataset\n",
    "\n",
    "\"\"\"\n",
    "iris_data = datasets.load_iris()\n",
    "X = iris_data.data[:,:]             # features\n",
    "Y = pd.DataFrame(iris_data.target)  # target classes\n",
    "Y_labels = iris_data.target_names   # class labels\n",
    "\n",
    "iris_results, centroids, clusters = kmeans(3,X) #pulling centroids and clusters out of the algorithm for verification\n",
    "\n",
    "iris_results['true'] = Y # add actual class labels to the df\n",
    "\n",
    "#aligning kmean classes w/ actual class labels\n",
    "# referenced from: https://jakevdp.github.io/PythonDataScienceHandbook/05.11-k-means.html\n",
    "\n",
    "labels = np.zeros_like(clusters)\n",
    "for i in range(3):\n",
    "    mask = (clusters == i)\n",
    "    labels[mask] = mode(iris_data.target[mask])[0]\n",
    "\n",
    "print(\"kmeans model accuracy: \" + str(accuracy_score(Y[0], labels)))"
   ]
  },
  {
   "cell_type": "code",
   "execution_count": 24,
   "metadata": {},
   "outputs": [
    {
     "name": "stdout",
     "output_type": "stream",
     "text": [
      "[[50  0  0]\n",
      " [ 0 44  6]\n",
      " [ 0  4 46]]\n"
     ]
    },
    {
     "data": {
      "text/html": [
       "<div>\n",
       "<style scoped>\n",
       "    .dataframe tbody tr th:only-of-type {\n",
       "        vertical-align: middle;\n",
       "    }\n",
       "\n",
       "    .dataframe tbody tr th {\n",
       "        vertical-align: top;\n",
       "    }\n",
       "\n",
       "    .dataframe thead th {\n",
       "        text-align: right;\n",
       "    }\n",
       "</style>\n",
       "<table border=\"1\" class=\"dataframe\">\n",
       "  <thead>\n",
       "    <tr style=\"text-align: right;\">\n",
       "      <th></th>\n",
       "      <th>0</th>\n",
       "      <th>1</th>\n",
       "      <th>2</th>\n",
       "    </tr>\n",
       "  </thead>\n",
       "  <tbody>\n",
       "    <tr>\n",
       "      <td>setosa</td>\n",
       "      <td>50</td>\n",
       "      <td>0</td>\n",
       "      <td>0</td>\n",
       "    </tr>\n",
       "    <tr>\n",
       "      <td>versicolor</td>\n",
       "      <td>0</td>\n",
       "      <td>44</td>\n",
       "      <td>6</td>\n",
       "    </tr>\n",
       "    <tr>\n",
       "      <td>virginica</td>\n",
       "      <td>0</td>\n",
       "      <td>4</td>\n",
       "      <td>46</td>\n",
       "    </tr>\n",
       "  </tbody>\n",
       "</table>\n",
       "</div>"
      ],
      "text/plain": [
       "             0   1   2\n",
       "setosa      50   0   0\n",
       "versicolor   0  44   6\n",
       "virginica    0   4  46"
      ]
     },
     "execution_count": 24,
     "metadata": {},
     "output_type": "execute_result"
    }
   ],
   "source": [
    "#confusion matrix of iris results\n",
    "\n",
    "result_mat = confusion_matrix(Y[0],labels)\n",
    "\n",
    "print(result_mat)\n",
    "\n",
    "mat_df = pd.DataFrame(result_mat, index = Y_labels)\n",
    "mat_df"
   ]
  },
  {
   "cell_type": "code",
   "execution_count": 25,
   "metadata": {},
   "outputs": [
    {
     "data": {
      "image/png": "[encoded data removed]",
      "text/plain": [
       "<Figure size 432x288 with 1 Axes>"
      ]
     },
     "metadata": {
      "needs_background": "light"
     },
     "output_type": "display_data"
    }
   ],
   "source": [
    "# plot code also referenced from  https://jakevdp.github.io/PythonDataScienceHandbook/05.11-k-means.html\n",
    "\n",
    "sns.heatmap(result_mat,\n",
    "            square = True,\n",
    "            annot = True,\n",
    "            fmt = 'd',\n",
    "            cbar = False,\n",
    "            xticklabels = iris_data.target_names,\n",
    "            yticklabels = iris_data.target_names)\n",
    "plt.xlabel('True Species Label')\n",
    "plt.ylabel('Predicted Species Label')\n",
    "plt.show()"
   ]
  },
  {
   "cell_type": "markdown",
   "metadata": {},
   "source": [
    "Compare to R results obtained using the built-in kmeans function."
   ]
  },
  {
   "cell_type": "markdown",
   "metadata": {},
   "source": [
    "\n",
    "<img src=rexample.jpg>"
   ]
  }
 ],
 "metadata": {
  "hide_input": false,
  "kernelspec": {
   "display_name": "Python 3",
   "language": "python",
   "name": "python3"
  },
  "language_info": {
   "codemirror_mode": {
    "name": "ipython",
    "version": 3
   },
   "file_extension": ".py",
   "mimetype": "text/x-python",
   "name": "python",
   "nbconvert_exporter": "python",
   "pygments_lexer": "ipython3",
   "version": "3.7.4"
  },
  "varInspector": {
   "cols": {
    "lenName": 16,
    "lenType": 16,
    "lenVar": 40
   },
   "kernels_config": {
    "python": {
     "delete_cmd_postfix": "",
     "delete_cmd_prefix": "del ",
     "library": "var_list.py",
     "varRefreshCmd": "print(var_dic_list())"
    },
    "r": {
     "delete_cmd_postfix": ") ",
     "delete_cmd_prefix": "rm(",
     "library": "var_list.r",
     "varRefreshCmd": "cat(var_dic_list()) "
    }
   },
   "types_to_exclude": [
    "module",
    "function",
    "builtin_function_or_method",
    "instance",
    "_Feature"
   ],
   "window_display": false
  }
 },
 "nbformat": 4,
 "nbformat_minor": 2
}
